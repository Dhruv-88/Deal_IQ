{
 "cells": [
  {
   "cell_type": "code",
   "execution_count": 1,
   "metadata": {},
   "outputs": [
    {
     "name": "stdout",
     "output_type": "stream",
     "text": [
      "           id                                                url  \\\n",
      "0  7222695916  https://prescott.craigslist.org/cto/d/prescott...   \n",
      "1  7218891961  https://fayar.craigslist.org/ctd/d/bentonville...   \n",
      "2  7221797935  https://keys.craigslist.org/cto/d/summerland-k...   \n",
      "3  7222270760  https://worcester.craigslist.org/cto/d/west-br...   \n",
      "4  7210384030  https://greensboro.craigslist.org/cto/d/trinit...   \n",
      "\n",
      "                   region                         region_url  price  year  \\\n",
      "0                prescott    https://prescott.craigslist.org   6000   NaN   \n",
      "1            fayetteville       https://fayar.craigslist.org  11900   NaN   \n",
      "2            florida keys        https://keys.craigslist.org  21000   NaN   \n",
      "3  worcester / central MA   https://worcester.craigslist.org   1500   NaN   \n",
      "4              greensboro  https://greensboro.craigslist.org   4900   NaN   \n",
      "\n",
      "  manufacturer model condition cylinders  ... size  type paint_color  \\\n",
      "0          NaN   NaN       NaN       NaN  ...  NaN   NaN         NaN   \n",
      "1          NaN   NaN       NaN       NaN  ...  NaN   NaN         NaN   \n",
      "2          NaN   NaN       NaN       NaN  ...  NaN   NaN         NaN   \n",
      "3          NaN   NaN       NaN       NaN  ...  NaN   NaN         NaN   \n",
      "4          NaN   NaN       NaN       NaN  ...  NaN   NaN         NaN   \n",
      "\n",
      "  image_url description county state lat long posting_date  \n",
      "0       NaN         NaN    NaN    az NaN  NaN          NaN  \n",
      "1       NaN         NaN    NaN    ar NaN  NaN          NaN  \n",
      "2       NaN         NaN    NaN    fl NaN  NaN          NaN  \n",
      "3       NaN         NaN    NaN    ma NaN  NaN          NaN  \n",
      "4       NaN         NaN    NaN    nc NaN  NaN          NaN  \n",
      "\n",
      "[5 rows x 26 columns]\n"
     ]
    }
   ],
   "source": [
    "import pandas as pd\n",
    "import numpy as np\n",
    "\n",
    "\n",
    "df = pd.read_csv('vehicles.csv')\n",
    "\n",
    "print(df.head())"
   ]
  }
 ],
 "metadata": {
  "kernelspec": {
   "display_name": "Deal_Predection",
   "language": "python",
   "name": "python3"
  },
  "language_info": {
   "codemirror_mode": {
    "name": "ipython",
    "version": 3
   },
   "file_extension": ".py",
   "mimetype": "text/x-python",
   "name": "python",
   "nbconvert_exporter": "python",
   "pygments_lexer": "ipython3",
   "version": "3.12.11"
  }
 },
 "nbformat": 4,
 "nbformat_minor": 2
}
