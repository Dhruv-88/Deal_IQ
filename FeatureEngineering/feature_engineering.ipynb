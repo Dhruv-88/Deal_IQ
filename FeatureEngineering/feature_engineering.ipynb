{
 "cells": [
  {
   "cell_type": "code",
   "execution_count": 1,
   "metadata": {},
   "outputs": [],
   "source": [
    "import os\n",
    "GCP_PROJECT_ID=os.getenv('PROJECT_ID')\n",
    "GCS_BUCKET_NAME=os.getenv('BUCKET_NAME')"
   ]
  },
  {
   "cell_type": "code",
   "execution_count": 2,
   "metadata": {},
   "outputs": [],
   "source": [
    "import sys\n",
    "sys.path.append(os.path.join(os.getcwd(), '../'))\n"
   ]
  },
  {
   "cell_type": "code",
   "execution_count": 3,
   "metadata": {},
   "outputs": [
    {
     "name": "stderr",
     "output_type": "stream",
     "text": [
      "INFO:cloud.gcs_storage_operations:GCS Data client initialized successfully\n",
      "INFO:cloud.gcs_storage_operations:Parquet read successfully (296858 rows, 15 columns)\n"
     ]
    }
   ],
   "source": [
    "# read the dataset \n",
    "from cloud.gcs_storage_operations import GCSDataOperations\n",
    "gcs = GCSDataOperations(GCP_PROJECT_ID)\n",
    "df = gcs.read_parquet(GCS_BUCKET_NAME, \"clean_data.parquet\")"
   ]
  },
  {
   "cell_type": "code",
   "execution_count": 4,
   "metadata": {},
   "outputs": [],
   "source": [
    "# df.drop(columns=['description','id'], inplace=True)"
   ]
  },
  {
   "cell_type": "code",
   "execution_count": 5,
   "metadata": {},
   "outputs": [],
   "source": [
    "# df = df[df['price']<=70000]"
   ]
  },
  {
   "cell_type": "code",
   "execution_count": null,
   "metadata": {},
   "outputs": [],
   "source": []
  },
  {
   "cell_type": "code",
   "execution_count": 6,
   "metadata": {},
   "outputs": [],
   "source": [
    "import pandas as pd\n",
    "import numpy as np\n",
    "from sklearn.model_selection import train_test_split\n",
    "from sklearn.linear_model import LinearRegression\n",
    "from sklearn.preprocessing import StandardScaler, LabelEncoder\n",
    "from sklearn.metrics import mean_squared_error, r2_score, mean_absolute_error\n",
    "import matplotlib.pyplot as plt\n",
    "import seaborn as sns"
   ]
  },
  {
   "cell_type": "code",
   "execution_count": 7,
   "metadata": {},
   "outputs": [],
   "source": [
    "# feature_columns=['year', 'manufacturer', 'model', 'fuel', 'odometer',\n",
    "#        'title_status', 'transmission', 'drive', 'type', 'paint_color', 'state',\n",
    "#        'lat', 'long', 'census_region']\n",
    "\n",
    "# target_column='price'"
   ]
  },
  {
   "cell_type": "code",
   "execution_count": 8,
   "metadata": {},
   "outputs": [],
   "source": [
    "# # Prepare features and target\n",
    "# X = data[feature_columns]\n",
    "# y = data[target_column]"
   ]
  },
  {
   "cell_type": "code",
   "execution_count": 9,
   "metadata": {},
   "outputs": [],
   "source": [
    "# print(f\"Dataset shape: {X.shape}\")\n",
    "# print(f\"Target variable: {target_column}\")\n",
    "# print(f\"Features: {len(feature_columns)} total\")"
   ]
  },
  {
   "cell_type": "code",
   "execution_count": 10,
   "metadata": {},
   "outputs": [],
   "source": [
    "# lets write feature engineering scripts  \n",
    "\n",
    "# version 1 : raw dataset without any feature engineering \n",
    "df_version_1 = df.copy()\n"
   ]
  },
  {
   "cell_type": "code",
   "execution_count": 11,
   "metadata": {},
   "outputs": [
    {
     "data": {
      "text/html": [
       "<div>\n",
       "<style scoped>\n",
       "    .dataframe tbody tr th:only-of-type {\n",
       "        vertical-align: middle;\n",
       "    }\n",
       "\n",
       "    .dataframe tbody tr th {\n",
       "        vertical-align: top;\n",
       "    }\n",
       "\n",
       "    .dataframe thead th {\n",
       "        text-align: right;\n",
       "    }\n",
       "</style>\n",
       "<table border=\"1\" class=\"dataframe\">\n",
       "  <thead>\n",
       "    <tr style=\"text-align: right;\">\n",
       "      <th></th>\n",
       "      <th>price</th>\n",
       "      <th>year</th>\n",
       "      <th>manufacturer</th>\n",
       "      <th>model</th>\n",
       "      <th>fuel</th>\n",
       "      <th>odometer</th>\n",
       "      <th>title_status</th>\n",
       "      <th>transmission</th>\n",
       "      <th>drive</th>\n",
       "      <th>type</th>\n",
       "      <th>paint_color</th>\n",
       "      <th>state</th>\n",
       "      <th>lat</th>\n",
       "      <th>long</th>\n",
       "      <th>census_region</th>\n",
       "    </tr>\n",
       "  </thead>\n",
       "  <tbody>\n",
       "    <tr>\n",
       "      <th>27</th>\n",
       "      <td>33590</td>\n",
       "      <td>2014.0</td>\n",
       "      <td>gmc</td>\n",
       "      <td>Sierra</td>\n",
       "      <td>gas</td>\n",
       "      <td>57923.0</td>\n",
       "      <td>clean</td>\n",
       "      <td>automatic</td>\n",
       "      <td>4wd</td>\n",
       "      <td>pickup</td>\n",
       "      <td>white</td>\n",
       "      <td>al</td>\n",
       "      <td>32.590</td>\n",
       "      <td>-85.4800</td>\n",
       "      <td>East South Central</td>\n",
       "    </tr>\n",
       "    <tr>\n",
       "      <th>28</th>\n",
       "      <td>22590</td>\n",
       "      <td>2010.0</td>\n",
       "      <td>chevrolet</td>\n",
       "      <td>silverado</td>\n",
       "      <td>gas</td>\n",
       "      <td>71229.0</td>\n",
       "      <td>clean</td>\n",
       "      <td>automatic</td>\n",
       "      <td>4wd</td>\n",
       "      <td>pickup</td>\n",
       "      <td>blue</td>\n",
       "      <td>al</td>\n",
       "      <td>32.590</td>\n",
       "      <td>-85.4800</td>\n",
       "      <td>East South Central</td>\n",
       "    </tr>\n",
       "    <tr>\n",
       "      <th>29</th>\n",
       "      <td>39590</td>\n",
       "      <td>2020.0</td>\n",
       "      <td>chevrolet</td>\n",
       "      <td>silverado</td>\n",
       "      <td>gas</td>\n",
       "      <td>19160.0</td>\n",
       "      <td>clean</td>\n",
       "      <td>automatic</td>\n",
       "      <td>4wd</td>\n",
       "      <td>pickup</td>\n",
       "      <td>red</td>\n",
       "      <td>al</td>\n",
       "      <td>32.590</td>\n",
       "      <td>-85.4800</td>\n",
       "      <td>East South Central</td>\n",
       "    </tr>\n",
       "    <tr>\n",
       "      <th>30</th>\n",
       "      <td>30990</td>\n",
       "      <td>2017.0</td>\n",
       "      <td>toyota</td>\n",
       "      <td>Tundra</td>\n",
       "      <td>gas</td>\n",
       "      <td>41124.0</td>\n",
       "      <td>clean</td>\n",
       "      <td>automatic</td>\n",
       "      <td>4wd</td>\n",
       "      <td>pickup</td>\n",
       "      <td>red</td>\n",
       "      <td>al</td>\n",
       "      <td>32.590</td>\n",
       "      <td>-85.4800</td>\n",
       "      <td>East South Central</td>\n",
       "    </tr>\n",
       "    <tr>\n",
       "      <th>31</th>\n",
       "      <td>15000</td>\n",
       "      <td>2013.0</td>\n",
       "      <td>ford</td>\n",
       "      <td>F-150</td>\n",
       "      <td>gas</td>\n",
       "      <td>128000.0</td>\n",
       "      <td>clean</td>\n",
       "      <td>automatic</td>\n",
       "      <td>rwd</td>\n",
       "      <td>truck</td>\n",
       "      <td>black</td>\n",
       "      <td>al</td>\n",
       "      <td>32.592</td>\n",
       "      <td>-85.5189</td>\n",
       "      <td>East South Central</td>\n",
       "    </tr>\n",
       "  </tbody>\n",
       "</table>\n",
       "</div>"
      ],
      "text/plain": [
       "    price    year manufacturer      model fuel  odometer title_status  \\\n",
       "27  33590  2014.0          gmc     Sierra  gas   57923.0        clean   \n",
       "28  22590  2010.0    chevrolet  silverado  gas   71229.0        clean   \n",
       "29  39590  2020.0    chevrolet  silverado  gas   19160.0        clean   \n",
       "30  30990  2017.0       toyota     Tundra  gas   41124.0        clean   \n",
       "31  15000  2013.0         ford      F-150  gas  128000.0        clean   \n",
       "\n",
       "   transmission drive    type paint_color state     lat     long  \\\n",
       "27    automatic   4wd  pickup       white    al  32.590 -85.4800   \n",
       "28    automatic   4wd  pickup        blue    al  32.590 -85.4800   \n",
       "29    automatic   4wd  pickup         red    al  32.590 -85.4800   \n",
       "30    automatic   4wd  pickup         red    al  32.590 -85.4800   \n",
       "31    automatic   rwd   truck       black    al  32.592 -85.5189   \n",
       "\n",
       "         census_region  \n",
       "27  East South Central  \n",
       "28  East South Central  \n",
       "29  East South Central  \n",
       "30  East South Central  \n",
       "31  East South Central  "
      ]
     },
     "execution_count": 11,
     "metadata": {},
     "output_type": "execute_result"
    }
   ],
   "source": [
    "# version 2 : dataset with encoding  one hot encoding and standard scaling  \n",
    "\n",
    "df_version_2 = df.copy()\n",
    "\n",
    "df_version_2.head()"
   ]
  },
  {
   "cell_type": "code",
   "execution_count": 12,
   "metadata": {},
   "outputs": [
    {
     "name": "stdout",
     "output_type": "stream",
     "text": [
      "\n",
      "📊 Processing column: 'manufacturer'\n",
      "\n",
      "📊 Processing column: 'model'\n",
      "\n",
      "📊 Processing column: 'fuel'\n",
      "\n",
      "📊 Processing column: 'title_status'\n",
      "\n",
      "📊 Processing column: 'transmission'\n",
      "\n",
      "📊 Processing column: 'drive'\n",
      "\n",
      "📊 Processing column: 'type'\n",
      "\n",
      "📊 Processing column: 'paint_color'\n",
      "\n",
      "📊 Processing column: 'state'\n",
      "\n",
      "📊 Processing column: 'census_region'\n"
     ]
    }
   ],
   "source": [
    "# Encoing  data\n",
    "from sklearn.preprocessing import LabelEncoder\n",
    "\n",
    "categorical_columns = ['manufacturer', 'model', 'fuel', 'title_status', \n",
    "                          'transmission', 'drive', 'type', 'paint_color', 'state', 'census_region']\n",
    "    \n",
    "label_encoders = {}\n",
    "encoding_metadata = {\"encoders\": {}}\n",
    "\n",
    "for col in categorical_columns:\n",
    "        if col in df_version_2.columns:\n",
    "            print(f\"\\n📊 Processing column: '{col}'\")\n",
    "            \n",
    "            # Create and fit label encoder\n",
    "            le = LabelEncoder()\n",
    "            df_version_2[col] = le.fit_transform(df_version_2[col])\n",
    "            label_encoders[col] = le\n",
    "            \n",
    "            # Create detailed mapping metadata\n",
    "            value_to_encoded = dict(zip(le.classes_, le.transform(le.classes_)))\n",
    "            encoded_to_value = {v: k for k, v in value_to_encoded.items()}\n",
    "            \n",
    "            # Get statistics\n",
    "            unique_count = len(le.classes_)\n",
    "            most_frequent = df_version_2[col].mode().iloc[0] if not df_version_2[col].empty else None\n",
    "            most_frequent_original = encoded_to_value.get(most_frequent, \"Unknown\")\n",
    "            \n",
    "            # Store metadata for this column\n",
    "            column_metadata = {\n",
    "                \"original_values\": le.classes_.tolist(),\n",
    "                \"unique_count\": unique_count,\n",
    "                \"value_to_encoded_mapping\": value_to_encoded,\n",
    "                \"encoded_to_value_mapping\": encoded_to_value,\n",
    "                \"encoded_range\": f\"0 to {unique_count - 1}\",\n",
    "                \"most_frequent_encoded\": int(most_frequent) if most_frequent is not None else None,\n",
    "                \"most_frequent_original\": most_frequent_original,\n",
    "                \"data_type\": \"categorical → numerical (label_encoded)\"\n",
    "            }\n",
    "            \n",
    "            encoding_metadata[\"encoders\"][col] = column_metadata\n",
    "            "
   ]
  },
  {
   "cell_type": "code",
   "execution_count": 17,
   "metadata": {},
   "outputs": [
    {
     "name": "stderr",
     "output_type": "stream",
     "text": [
      "INFO:cloud.gcs_storage_operations:JSON uploaded successfully\n"
     ]
    },
    {
     "data": {
      "text/plain": [
       "True"
      ]
     },
     "execution_count": 17,
     "metadata": {},
     "output_type": "execute_result"
    }
   ],
   "source": [
    "import json\n",
    "import numpy as np\n",
    "\n",
    "def json_serializer(obj):\n",
    "    \"\"\"Convert numpy types to native Python types for JSON serialization\"\"\"\n",
    "    if isinstance(obj, np.integer):\n",
    "        return int(obj)\n",
    "    elif isinstance(obj, np.floating):\n",
    "        return float(obj)\n",
    "    elif isinstance(obj, np.ndarray):\n",
    "        return obj.tolist()\n",
    "    elif hasattr(obj, 'tolist'):\n",
    "        return obj.tolist()\n",
    "    return str(obj)\n",
    "\n",
    "def convert_keys_to_strings(obj):\n",
    "    \"\"\"Recursively convert dictionary keys to strings\"\"\"\n",
    "    if isinstance(obj, dict):\n",
    "        return {str(k): convert_keys_to_strings(v) for k, v in obj.items()}\n",
    "    elif isinstance(obj, list):\n",
    "        return [convert_keys_to_strings(item) for item in obj]\n",
    "    else:\n",
    "        return obj\n",
    "\n",
    "# Convert the metadata before saving\n",
    "encoding_metadata_clean = convert_keys_to_strings(encoding_metadata)\n",
    "\n",
    "# save to gcp : \n",
    "gcs.upload_json(bucket_name=GCS_BUCKET_NAME,blob_name='metadata/encoding/df_version_2_label_encoding_metadata.json',data=encoding_metadata_clean)"
   ]
  },
  {
   "cell_type": "code",
   "execution_count": null,
   "metadata": {},
   "outputs": [],
   "source": [
    "//new changes from here "
   ]
  },
  {
   "cell_type": "code",
   "execution_count": 14,
   "metadata": {},
   "outputs": [
    {
     "data": {
      "text/plain": [
       "{'ak': np.int64(0),\n",
       " 'al': np.int64(1),\n",
       " 'ar': np.int64(2),\n",
       " 'az': np.int64(3),\n",
       " 'ca': np.int64(4),\n",
       " 'co': np.int64(5),\n",
       " 'ct': np.int64(6),\n",
       " 'dc': np.int64(7),\n",
       " 'de': np.int64(8),\n",
       " 'fl': np.int64(9),\n",
       " 'ga': np.int64(10),\n",
       " 'hi': np.int64(11),\n",
       " 'ia': np.int64(12),\n",
       " 'id': np.int64(13),\n",
       " 'il': np.int64(14),\n",
       " 'in': np.int64(15),\n",
       " 'ks': np.int64(16),\n",
       " 'ky': np.int64(17),\n",
       " 'la': np.int64(18),\n",
       " 'ma': np.int64(19),\n",
       " 'md': np.int64(20),\n",
       " 'me': np.int64(21),\n",
       " 'mi': np.int64(22),\n",
       " 'mn': np.int64(23),\n",
       " 'mo': np.int64(24),\n",
       " 'ms': np.int64(25),\n",
       " 'mt': np.int64(26),\n",
       " 'nc': np.int64(27),\n",
       " 'nd': np.int64(28),\n",
       " 'ne': np.int64(29),\n",
       " 'nh': np.int64(30),\n",
       " 'nj': np.int64(31),\n",
       " 'nm': np.int64(32),\n",
       " 'nv': np.int64(33),\n",
       " 'ny': np.int64(34),\n",
       " 'oh': np.int64(35),\n",
       " 'ok': np.int64(36),\n",
       " 'or': np.int64(37),\n",
       " 'pa': np.int64(38),\n",
       " 'ri': np.int64(39),\n",
       " 'sc': np.int64(40),\n",
       " 'sd': np.int64(41),\n",
       " 'tn': np.int64(42),\n",
       " 'tx': np.int64(43),\n",
       " 'ut': np.int64(44),\n",
       " 'va': np.int64(45),\n",
       " 'vt': np.int64(46),\n",
       " 'wa': np.int64(47),\n",
       " 'wi': np.int64(48),\n",
       " 'wv': np.int64(49),\n",
       " 'wy': np.int64(50)}"
      ]
     },
     "execution_count": 14,
     "metadata": {},
     "output_type": "execute_result"
    }
   ],
   "source": [
    "encoding_metadata['encoders']['state']['value_to_encoded_mapping']"
   ]
  },
  {
   "cell_type": "code",
   "execution_count": 15,
   "metadata": {},
   "outputs": [
    {
     "ename": "SyntaxError",
     "evalue": "invalid syntax (1303184558.py, line 1)",
     "output_type": "error",
     "traceback": [
      "  \u001b[36mCell\u001b[39m\u001b[36m \u001b[39m\u001b[32mIn[15]\u001b[39m\u001b[32m, line 1\u001b[39m\n\u001b[31m    \u001b[39m\u001b[31m/\u001b[39m\n    ^\n\u001b[31mSyntaxError\u001b[39m\u001b[31m:\u001b[39m invalid syntax\n"
     ]
    }
   ],
   "source": [
    "/"
   ]
  },
  {
   "cell_type": "code",
   "execution_count": null,
   "metadata": {},
   "outputs": [],
   "source": [
    "df_version_2.describe()"
   ]
  },
  {
   "cell_type": "code",
   "execution_count": null,
   "metadata": {},
   "outputs": [],
   "source": [
    "# split the data into training and testing sets\n",
    "X_train, X_test, y_train, y_test = train_test_split(\n",
    "    X, y, test_size=0.2, random_state=42\n",
    ") \n",
    "\n",
    "print(f\"Training set: {X_train.shape[0]} samples\")\n",
    "print(f\"Test set: {X_test.shape[0]} samples\\n\")"
   ]
  },
  {
   "cell_type": "code",
   "execution_count": 19,
   "metadata": {},
   "outputs": [],
   "source": [
    "# 2. Then scale\n",
    "scaler = StandardScaler()\n",
    "X_train_scaled = scaler.fit_transform(X_train)  # Learn parameters from training data only\n",
    "X_test_scaled = scaler.transform(X_test)        # Apply same parameters to test data"
   ]
  },
  {
   "cell_type": "code",
   "execution_count": 20,
   "metadata": {},
   "outputs": [],
   "source": [
    "from sklearn.neighbors import KNeighborsRegressor\n",
    "\n"
   ]
  },
  {
   "cell_type": "code",
   "execution_count": null,
   "metadata": {},
   "outputs": [],
   "source": [
    "print(\"Training Linear Regression model...\")\n",
    "lr_model =  KNeighborsRegressor(n_neighbors=5)\n",
    "lr_model.fit(X_train_scaled, y_train)"
   ]
  },
  {
   "cell_type": "code",
   "execution_count": 22,
   "metadata": {},
   "outputs": [],
   "source": [
    "# Make predictions\n",
    "y_train_pred = lr_model.predict(X_train_scaled)\n",
    "y_test_pred = lr_model.predict(X_test_scaled)"
   ]
  },
  {
   "cell_type": "code",
   "execution_count": 23,
   "metadata": {},
   "outputs": [],
   "source": [
    "train_rmse = np.sqrt(mean_squared_error(y_train, y_train_pred))\n",
    "test_rmse = np.sqrt(mean_squared_error(y_test, y_test_pred))\n",
    "train_mae = mean_absolute_error(y_train, y_train_pred)\n",
    "test_mae = mean_absolute_error(y_test, y_test_pred)\n",
    "train_r2 = r2_score(y_train, y_train_pred)\n",
    "test_r2 = r2_score(y_test, y_test_pred)"
   ]
  },
  {
   "cell_type": "code",
   "execution_count": null,
   "metadata": {},
   "outputs": [],
   "source": [
    "print(\"\\n=== MODEL PERFORMANCE ===\")\n",
    "print(f\"Training RMSE: ${train_rmse:,.2f}\")\n",
    "print(f\"Test RMSE: ${test_rmse:,.2f}\")\n",
    "print(f\"Training MAE: ${train_mae:,.2f}\")\n",
    "print(f\"Test MAE: ${test_mae:,.2f}\")\n",
    "print(f\"Training R²: {train_r2:.4f}\")\n",
    "print(f\"Test R²: {test_r2:.4f}\")"
   ]
  },
  {
   "cell_type": "code",
   "execution_count": null,
   "metadata": {},
   "outputs": [],
   "source": [
    "y_train.mean()"
   ]
  },
  {
   "cell_type": "code",
   "execution_count": 26,
   "metadata": {},
   "outputs": [],
   "source": [
    "# from seaborn import histplot\n",
    "\n",
    "\n",
    "# histplot(df['price'])"
   ]
  },
  {
   "cell_type": "code",
   "execution_count": null,
   "metadata": {},
   "outputs": [],
   "source": [
    "df['type'].value_counts()"
   ]
  },
  {
   "cell_type": "code",
   "execution_count": null,
   "metadata": {},
   "outputs": [],
   "source": [
    "df.groupby('type')['price'].mean()"
   ]
  },
  {
   "cell_type": "code",
   "execution_count": null,
   "metadata": {},
   "outputs": [],
   "source": [
    "from seaborn import histplot\n",
    "\n",
    "\n",
    "histplot(df['price'])"
   ]
  },
  {
   "cell_type": "code",
   "execution_count": null,
   "metadata": {},
   "outputs": [],
   "source": []
  }
 ],
 "metadata": {
  "kernelspec": {
   "display_name": "Deal_Predection",
   "language": "python",
   "name": "python3"
  },
  "language_info": {
   "codemirror_mode": {
    "name": "ipython",
    "version": 3
   },
   "file_extension": ".py",
   "mimetype": "text/x-python",
   "name": "python",
   "nbconvert_exporter": "python",
   "pygments_lexer": "ipython3",
   "version": "3.12.11"
  }
 },
 "nbformat": 4,
 "nbformat_minor": 2
}
